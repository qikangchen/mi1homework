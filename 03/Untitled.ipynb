{
 "cells": [
  {
   "cell_type": "code",
   "execution_count": 1,
   "id": "6dcbfe08",
   "metadata": {},
   "outputs": [],
   "source": [
    "import numpy as np\n",
    "import matplotlib.pyplot as plt"
   ]
  },
  {
   "cell_type": "code",
   "execution_count": 4,
   "id": "e5099e2a",
   "metadata": {},
   "outputs": [],
   "source": [
    "class InputDataCreator():\n",
    "    def __getX(self):\n",
    "        data = np.genfromtxt('RegressionData.txt', delimiter=' ')\n",
    "        x = data[:,0]\n",
    "        x = x[:, np.newaxis]\n",
    "        x = np.block([x, np.zeros(len(x)*2).reshape(-1,2)]) \n",
    "        return x \n",
    "\n",
    "    def __getY(self):\n",
    "        data = np.genfromtxt('RegressionData.txt', delimiter=' ')\n",
    "        y = data[:,1]\n",
    "        y = y[:, np.newaxis]\n",
    "        y = np.block([y, np.zeros(len(y)*2).reshape(-1,2)])\n",
    "        return y\n",
    "    \n",
    "    def getData(self):\n",
    "        return self.__getX(), self.__getY()\n",
    "    \n",
    "    def getDataTrue(self):\n",
    "        xspace = np.linspace(0, 1, 50, endpoint=True)\n",
    "        xspace = xspace[:, np.newaxis]\n",
    "        xspace = np.block([xspace, np.zeros(len(xspace)*2).reshape(-1,2)]) \n",
    "        \n",
    "        yspace = np.sin(2 * np.pi * xspace)     \n",
    "        \n",
    "        return xspace, yspace\n",
    "\n",
    "inputDataCreator = InputDataCreator() "
   ]
  },
  {
   "cell_type": "code",
   "execution_count": null,
   "id": "1ec561f3",
   "metadata": {},
   "outputs": [],
   "source": []
  }
 ],
 "metadata": {
  "kernelspec": {
   "display_name": "Python 3 (ipykernel)",
   "language": "python",
   "name": "python3"
  },
  "language_info": {
   "codemirror_mode": {
    "name": "ipython",
    "version": 3
   },
   "file_extension": ".py",
   "mimetype": "text/x-python",
   "name": "python",
   "nbconvert_exporter": "python",
   "pygments_lexer": "ipython3",
   "version": "3.10.8"
  }
 },
 "nbformat": 4,
 "nbformat_minor": 5
}
