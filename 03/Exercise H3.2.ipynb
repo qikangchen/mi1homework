{
 "cells": [
  {
   "cell_type": "code",
   "execution_count": 1,
   "id": "93830695",
   "metadata": {},
   "outputs": [],
   "source": [
    "import numpy as np\n",
    "import matplotlib.pyplot as plt"
   ]
  },
  {
   "cell_type": "markdown",
   "id": "abc1f31e",
   "metadata": {},
   "source": [
    "## Get data x, yt"
   ]
  },
  {
   "cell_type": "code",
   "execution_count": 2,
   "id": "a88dde13",
   "metadata": {},
   "outputs": [],
   "source": [
    "useDummyData = True"
   ]
  },
  {
   "cell_type": "code",
   "execution_count": 3,
   "id": "dd6a78a4",
   "metadata": {},
   "outputs": [
    {
     "data": {
      "text/plain": [
       "(array([0.5503, 0.9206, 0.5359, 0.6081, 0.0202, 0.8545, 0.2357, 0.4847,\n",
       "        0.3996, 0.1957]),\n",
       " array([-0.5894, -0.2507, -0.0468, -0.3402,  0.2857, -1.0683,  0.8605,\n",
       "        -0.0801,  0.6837,  1.185 ]))"
      ]
     },
     "execution_count": 3,
     "metadata": {},
     "output_type": "execute_result"
    }
   ],
   "source": [
    "data = np.genfromtxt('RegressionData.txt', delimiter=' ')\n",
    "x = data[:,0]\n",
    "yt = data[:,1]\n",
    "x,yt"
   ]
  },
  {
   "cell_type": "code",
   "execution_count": 4,
   "id": "e5668dfa",
   "metadata": {},
   "outputs": [
    {
     "name": "stdout",
     "output_type": "stream",
     "text": [
      "x:\n",
      "[[1. 0. 0.]\n",
      " [2. 0. 0.]]\n",
      "y:\n",
      "[[1. 0. 0.]\n",
      " [2. 0. 0.]]\n"
     ]
    }
   ],
   "source": [
    "def getX1():\n",
    "    x = np.zeros([2,3])\n",
    "    x[:,0] = np.array([1,2])\n",
    "    return x\n",
    "\n",
    "def getY1():\n",
    "    return getX1()\n",
    "\n",
    "def getX2():\n",
    "    data = np.genfromtxt('RegressionData.txt', delimiter=' ')\n",
    "    x = data[:,0]\n",
    "    x = x[:, np.newaxis]\n",
    "    x = np.block([x, np.zeros(len(x)*2).reshape(-1,2)]) \n",
    "    return x \n",
    "\n",
    "def getY2():\n",
    "    data = np.genfromtxt('RegressionData.txt', delimiter=' ')\n",
    "    y = data[:,1]\n",
    "    y = y[:, np.newaxis]\n",
    "    y = np.block([y, np.zeros(len(y)*2).reshape(-1,2)])\n",
    "    return y\n",
    "\n",
    "if useDummyData:\n",
    "    x = getX1()[:]\n",
    "    yt = getY1()[:]\n",
    "else:\n",
    "    x = getX2()[:]\n",
    "    yt = getY2()[:]\n",
    "\n",
    "print(f'x:\\n{x}')\n",
    "print(f'y:\\n{yt}')\n",
    "\n",
    "# assert (x[:, 0] == np.genfromtxt('RegressionData.txt', delimiter=' ')[:, 0]).all()\n",
    "# assert (yt[:, 0] == np.genfromtxt('RegressionData.txt', delimiter=' ')[:, 1]).all()\n",
    "assert (x[:, 1:] == 0).all() \n",
    "assert (yt[:, 1:] == 0).all() "
   ]
  },
  {
   "cell_type": "markdown",
   "id": "d1017d50",
   "metadata": {},
   "source": [
    "## Init weights "
   ]
  },
  {
   "cell_type": "code",
   "execution_count": 5,
   "id": "fcaf3517",
   "metadata": {},
   "outputs": [
    {
     "name": "stdout",
     "output_type": "stream",
     "text": [
      "w1:\n",
      "[[1. 1. 1.]\n",
      " [0. 0. 0.]\n",
      " [0. 0. 0.]]\n",
      "w2:\n",
      "[[1. 0. 0.]\n",
      " [2. 0. 0.]\n",
      " [3. 0. 0.]]\n",
      "b1:\n",
      "[3. 3. 3.]\n",
      "b2:\n",
      "[4. 0. 0.]\n"
     ]
    }
   ],
   "source": [
    "def initWeights1():\n",
    "    w1 = np.zeros(9).reshape([3,3])\n",
    "    w1[0,:] = 1\n",
    "    \n",
    "    w2 = np.zeros(9).reshape([3,3])\n",
    "    w2[:,0] = np.arange(3) + 1\n",
    "    \n",
    "    b1 = np.zeros(3)\n",
    "    b1[:] = 3 \n",
    "    \n",
    "    b2 = np.zeros(3)\n",
    "    b2[0] = 4 \n",
    "    \n",
    "    \n",
    "    return w1, w2, b1, b2\n",
    "\n",
    "def initWeights2():\n",
    "    w1 = np.zeros(9).reshape([3,3])\n",
    "    w1[0,:] = np.random.uniform(-0.5,0.5,3)\n",
    "    \n",
    "    w2 = np.zeros(9).reshape([3,3])\n",
    "    w2[:,0] = np.random.uniform(-0.5,0.5,3)\n",
    "    \n",
    "    b1 = np.zeros(3)\n",
    "    b1[:] = np.random.uniform(-0.5,0.5,3) \n",
    "    \n",
    "    b2 = np.zeros(3)\n",
    "    b2[0] = np.random.uniform(-0.5,0.5,1)\n",
    "    \n",
    "    \n",
    "    return w1, w2, b1, b2\n",
    "\n",
    "\n",
    "w1, w2, b1, b2 = initWeights1() if useDummyData else initWeights2()\n",
    "\n",
    "print(f'w1:\\n{w1}')\n",
    "print(f'w2:\\n{w2}')\n",
    "print(f'b1:\\n{b1}')\n",
    "print(f'b2:\\n{b2}')\n",
    "\n",
    "assert (w1[0] != 0).all()\n",
    "assert (w1[1:] == 0).all()\n",
    "assert (w2[:,0] != 0).all()\n",
    "assert (w2[:,1:] == 0).all()\n",
    "assert (b1 != 0).all()\n",
    "assert (b2[0] != 0).all()\n",
    "assert (b2[1:] == 0).all()"
   ]
  },
  {
   "cell_type": "markdown",
   "id": "971df37a",
   "metadata": {},
   "source": [
    "## forward pass"
   ]
  },
  {
   "cell_type": "code",
   "execution_count": 6,
   "id": "9055a316",
   "metadata": {},
   "outputs": [
    {
     "name": "stdout",
     "output_type": "stream",
     "text": [
      "Input:\n",
      "x:\n",
      "[[1. 0. 0.]\n",
      " [2. 0. 0.]]\n",
      "------------\n",
      "Input Layer:\n",
      "h0:\n",
      "[[1. 0. 0.]\n",
      " [2. 0. 0.]]\n",
      "f0:\n",
      "[[1. 0. 0.]\n",
      " [2. 0. 0.]]\n",
      "------------\n",
      "Hidden layer: \n",
      "h1:\n",
      "[[4. 4. 4.]\n",
      " [5. 5. 5.]]\n",
      "f1:\n",
      "[[0.9993293 0.9993293 0.9993293]\n",
      " [0.9999092 0.9999092 0.9999092]]\n",
      "------------\n",
      "Output layer: \n",
      "h2:\n",
      "[[9.9959758  0.         0.        ]\n",
      " [9.99945523 0.         0.        ]]\n",
      "f2:\n",
      "[[9.9959758  0.         0.        ]\n",
      " [9.99945523 0.         0.        ]]\n",
      "------------\n"
     ]
    }
   ],
   "source": [
    "def activationHidden(x):\n",
    "#     return x\n",
    "    return np.tanh(x)\n",
    "\n",
    "def activationHiddenPrime(x):\n",
    "#     return x\n",
    "    return (1- np.tanh(x)**2)\n",
    "\n",
    "def inputLayer(x):\n",
    "    h0 = x \n",
    "    f0 = h0\n",
    "    return h0, f0\n",
    "\n",
    "def hiddenLayer(f0, w1, b1):\n",
    "    h1 = f0 @ w1 + b1\n",
    "#     print(f'h1: {h1}')\n",
    "    f1 = activationHidden(h1)\n",
    "    return h1, f1\n",
    "\n",
    "def outputLayer(f1, w2, b2):\n",
    "    h2 = f1 @ w2 + b2\n",
    "#     print(f'h2: {h2}')\n",
    "    f2 = h2\n",
    "    return h2, f2\n",
    "\n",
    "def forward(x,w1,w2,b1,b2,verbose=False):\n",
    "    if(verbose):\n",
    "        print('Input:')\n",
    "        print(f'x:\\n{x}')\n",
    "        print('------------')\n",
    "\n",
    "        print('Input Layer:')\n",
    "    h0,f0 = inputLayer(x)\n",
    "    if(verbose):\n",
    "        print(f'h0:\\n{h0}')\n",
    "        print(f'f0:\\n{f0}')\n",
    "        print('------------')\n",
    "\n",
    "\n",
    "        print('Hidden layer: ')\n",
    "    h1,f1 = hiddenLayer(f0,w1,b1)\n",
    "    if(verbose):\n",
    "        print(f'h1:\\n{h1}')\n",
    "        print(f'f1:\\n{f1}')\n",
    "        print('------------')\n",
    "\n",
    "\n",
    "        print('Output layer: ')\n",
    "    h2,f2 = outputLayer(f1,w2,b2)\n",
    "    if(verbose):\n",
    "        print(f'h2:\\n{h2}')\n",
    "        print(f'f2:\\n{f2}')\n",
    "        print('------------')\n",
    "    \n",
    "    return h0,h1,h2,f0,f1,f2\n",
    "\n",
    "h0,h1,h2,f0,f1,y = forward(x,w1,w2,b1,b2,True)\n",
    "\n",
    "# assert y = f1 * w2 + b2\n",
    "assert y[0][0] == (np.tanh(4) * (np.arange(3) + 1 )).sum() + 4 # y for 1. x batch\n",
    "assert y[1][0] == (np.tanh(5) * (np.arange(3) + 1 )).sum() + 4 # y for 2. x batch"
   ]
  },
  {
   "cell_type": "markdown",
   "id": "153764e2",
   "metadata": {},
   "source": [
    "## output error"
   ]
  },
  {
   "cell_type": "code",
   "execution_count": 7,
   "id": "36f45e6c",
   "metadata": {},
   "outputs": [
    {
     "name": "stdout",
     "output_type": "stream",
     "text": [
      "[[1. 0. 0.]\n",
      " [2. 0. 0.]]\n",
      "[[9.9959758  0.         0.        ]\n",
      " [9.99945523 0.         0.        ]]\n"
     ]
    }
   ],
   "source": [
    "yt, y\n",
    "print(yt)\n",
    "print(y)\n",
    "\n",
    "assert (yt[:,1:] == 0).all()\n",
    "assert (y[:,1:] == 0).all()"
   ]
  },
  {
   "cell_type": "code",
   "execution_count": 8,
   "id": "f9a734ca",
   "metadata": {},
   "outputs": [
    {
     "name": "stdout",
     "output_type": "stream",
     "text": [
      "[40.46379028 31.99564195]\n",
      "[8.9959758  7.99945523]\n"
     ]
    }
   ],
   "source": [
    "def outputError(y, yt):\n",
    "    return 1/2 * (y - yt)**2\n",
    "\n",
    "def outputErrorPrime(y, yt):\n",
    "    return y - yt\n",
    "    \n",
    "e = outputError(y, yt)\n",
    "eprime = outputErrorPrime(y, yt)\n",
    "\n",
    "assert e.sum(axis=1)[0] == (1/2 * (y[0] - yt[0])**2)[0]\n",
    "assert e.sum(axis=1)[1] == (1/2 * (y[1] - yt[1])**2)[0]\n",
    "assert (e[:, 1:] == 0).all()\n",
    "assert (eprime[:, 1:] == 0).all()\n",
    "\n",
    "print(e.sum(axis=1))\n",
    "print(eprime.sum(axis=1))"
   ]
  },
  {
   "cell_type": "markdown",
   "id": "43e833d1",
   "metadata": {},
   "source": [
    "## local errors"
   ]
  },
  {
   "cell_type": "code",
   "execution_count": 9,
   "id": "b81cc001",
   "metadata": {},
   "outputs": [
    {
     "data": {
      "text/plain": [
       "(array([[0.00134095, 0.0026819 , 0.00402285],\n",
       "        [0.00018158, 0.00036317, 0.00054475]]),\n",
       " array([[1., 0., 0.],\n",
       "        [1., 0., 0.]]))"
      ]
     },
     "execution_count": 9,
     "metadata": {},
     "output_type": "execute_result"
    }
   ],
   "source": [
    "def localErrors(h1, w2):\n",
    "    delta2 = np.zeros([len(h1), 3])\n",
    "    delta2[:, 0] = 1\n",
    "    \n",
    "    # delta2/3, weil das delta2[0] auf 3 delta1 verteilt wird?\n",
    "    delta1 = activationHiddenPrime(h1) * delta2 @ w2.T\n",
    "    return delta1, delta2\n",
    "\n",
    "delta1, delta2 = localErrors(h1, w2)\n",
    "\n",
    "assert (delta1 != 0).all()\n",
    "assert (delta2[:, 1:] == 0).all()\n",
    "\n",
    "assert delta1[0,0] == ((1 - np.tanh(h1[0,0])**2) * 1)\n",
    "assert delta1[0,1] == ((1 - np.tanh(h1[0,0])**2) * 2)\n",
    "assert delta1[0,2] == ((1 - np.tanh(h1[0,0])**2) * 3)\n",
    "assert delta1[1,0] == ((1 - np.tanh(h1[1,0])**2) * 1)\n",
    "assert delta1[1,1] == ((1 - np.tanh(h1[1,0])**2) * 2)\n",
    "assert delta1[1,2] == ((1 - np.tanh(h1[1,0])**2) * 3)\n",
    "\n",
    "delta1, delta2 "
   ]
  },
  {
   "cell_type": "code",
   "execution_count": 10,
   "id": "7e3c07b3",
   "metadata": {},
   "outputs": [
    {
     "data": {
      "text/plain": [
       "42.0"
      ]
     },
     "execution_count": 10,
     "metadata": {},
     "output_type": "execute_result"
    }
   ],
   "source": [
    "I = np.array([41,42,43])\n",
    "I.mean()"
   ]
  },
  {
   "cell_type": "markdown",
   "id": "bfb20ff0",
   "metadata": {},
   "source": [
    "## backporp"
   ]
  },
  {
   "cell_type": "code",
   "execution_count": 11,
   "id": "c9dac6f9",
   "metadata": {},
   "outputs": [
    {
     "name": "stdout",
     "output_type": "stream",
     "text": [
      "gradient_y:\n",
      " [[8.9959758  0.         0.        ]\n",
      " [7.99945523 0.         0.        ]]\n",
      "dyb1:\n",
      " [[0.00134095 0.0026819  0.00402285]\n",
      " [0.00018158 0.00036317 0.00054475]]\n",
      "dyb2:\n",
      " [[1. 0. 0.]\n",
      " [1. 0. 0.]]\n",
      "dyw1:\n",
      " [[[0.00134095 0.0026819  0.00402285]\n",
      "  [0.         0.         0.        ]\n",
      "  [0.         0.         0.        ]]\n",
      "\n",
      " [[0.00036317 0.00072633 0.0010895 ]\n",
      "  [0.         0.         0.        ]\n",
      "  [0.         0.         0.        ]]]\n",
      "dyw2:\n",
      " [[[0.9993293 0.        0.       ]\n",
      "  [0.9993293 0.        0.       ]\n",
      "  [0.9993293 0.        0.       ]]\n",
      "\n",
      " [[0.9999092 0.        0.       ]\n",
      "  [0.9999092 0.        0.       ]\n",
      "  [0.9999092 0.        0.       ]]]\n",
      "gradient_b1:\n",
      " [[0.01206316 0.         0.        ]\n",
      " [0.00145257 0.         0.        ]]\n",
      "gradient_b2:\n",
      " [[8.9959758  0.         0.        ]\n",
      " [7.99945523 0.         0.        ]]\n",
      "gradient_w1:\n",
      " [[[0.01206316 0.02412632 0.03618948]\n",
      "  [0.         0.         0.        ]\n",
      "  [0.         0.         0.        ]]\n",
      "\n",
      " [[0.00290513 0.00581027 0.0087154 ]\n",
      "  [0.         0.         0.        ]\n",
      "  [0.         0.         0.        ]]]\n",
      "gradient_w2:\n",
      " [[[8.9899422  0.         0.        ]\n",
      "  [8.9899422  0.         0.        ]\n",
      "  [8.9899422  0.         0.        ]]\n",
      "\n",
      " [[7.99872891 0.         0.        ]\n",
      "  [7.99872891 0.         0.        ]\n",
      "  [7.99872891 0.         0.        ]]]\n",
      "gradient_b1:\n",
      " [0.00675786 0.         0.        ]\n",
      "gradient_b2:\n",
      " [8.49771551 0.         0.        ]\n",
      "gradient_w1:\n",
      " [[0.00748415 0.01496829 0.02245244]\n",
      " [0.         0.         0.        ]\n",
      " [0.         0.         0.        ]]\n",
      "gradient_w2:\n",
      " [[8.49433555 0.         0.        ]\n",
      " [8.49433555 0.         0.        ]\n",
      " [8.49433555 0.         0.        ]]\n"
     ]
    },
    {
     "data": {
      "text/plain": [
       "(array([[0.00748415, 0.01496829, 0.02245244],\n",
       "        [0.        , 0.        , 0.        ],\n",
       "        [0.        , 0.        , 0.        ]]),\n",
       " array([[8.49433555, 0.        , 0.        ],\n",
       "        [8.49433555, 0.        , 0.        ],\n",
       "        [8.49433555, 0.        , 0.        ]]),\n",
       " array([0.00675786, 0.        , 0.        ]),\n",
       " array([8.49771551, 0.        , 0.        ]))"
      ]
     },
     "execution_count": 11,
     "metadata": {},
     "output_type": "execute_result"
    }
   ],
   "source": [
    "def gradients(y, yt, delta1, delta2, f0, f1, verbose=False):\n",
    "    gradient_y = outputErrorPrime(y,yt)\n",
    "    if verbose: print(f'gradient_y:\\n {gradient_y}')\n",
    "    \n",
    "    dyb1 = delta1\n",
    "    dyb2 = delta2\n",
    "    if verbose: \n",
    "        print(f'dyb1:\\n {dyb1}')\n",
    "        print(f'dyb2:\\n {dyb2}')\n",
    "    \n",
    "    dyw1 = np.expand_dims(f0, axis=2) @ np.expand_dims(delta1, axis=1)\n",
    "    dyw2 = np.expand_dims(f1, axis=2) @ np.expand_dims(delta2, axis=1)\n",
    "    if verbose: \n",
    "        print(f'dyw1:\\n {dyw1}')\n",
    "        print(f'dyw2:\\n {dyw2}')\n",
    "    \n",
    "    gradient_b1 = dyb1 * gradient_y \n",
    "    gradient_b2 = dyb2 * gradient_y\n",
    "    gradient_w1 = dyw1 * np.repeat(gradient_y[:,0], 9).reshape(-1,3,3)\n",
    "    gradient_w2 = dyw2 * np.repeat(gradient_y[:,0], 9).reshape(-1,3,3)\n",
    "    \n",
    "    if verbose: \n",
    "        print(f'gradient_b1:\\n {gradient_b1}')\n",
    "        print(f'gradient_b2:\\n {gradient_b2}')\n",
    "        print(f'gradient_w1:\\n {gradient_w1}')\n",
    "        print(f'gradient_w2:\\n {gradient_w2}')\n",
    "    \n",
    "    gradient_b1 = gradient_b1.mean(0)\n",
    "    gradient_b2 = gradient_b2.mean(0)\n",
    "    gradient_w1 = gradient_w1.mean(0)\n",
    "    gradient_w2 = gradient_w2.mean(0)\n",
    "    if verbose: \n",
    "        print(f'gradient_b1:\\n {gradient_b1}')\n",
    "        print(f'gradient_b2:\\n {gradient_b2}')\n",
    "        print(f'gradient_w1:\\n {gradient_w1}')\n",
    "        print(f'gradient_w2:\\n {gradient_w2}')\n",
    "    \n",
    "    return gradient_w1, gradient_w2, gradient_b1, gradient_b2\n",
    "\n",
    "gradient_w1, gradient_w2, gradient_b1, gradient_b2 = gradients(y,yt,delta1,delta2,f0,f1,True)\n",
    "gradient_w1, gradient_w2, gradient_b1, gradient_b2"
   ]
  },
  {
   "cell_type": "code",
   "execution_count": 12,
   "id": "bd845a2b",
   "metadata": {},
   "outputs": [
    {
     "data": {
      "text/plain": [
       "(array([[0.99962579, 0.99925159, 0.99887738],\n",
       "        [0.        , 0.        , 0.        ],\n",
       "        [0.        , 0.        , 0.        ]]),\n",
       " array([[0.57528322, 0.        , 0.        ],\n",
       "        [1.57528322, 0.        , 0.        ],\n",
       "        [2.57528322, 0.        , 0.        ]]),\n",
       " array([2.99966211, 3.        , 3.        ]),\n",
       " array([3.57511422, 0.        , 0.        ]))"
      ]
     },
     "execution_count": 12,
     "metadata": {},
     "output_type": "execute_result"
    }
   ],
   "source": [
    "def update_weights(w1,w2,b1,b2,gradient_w1,gradient_w2,gradient_b1,gradient_b2,learning_rate=0.05):\n",
    "    w1 -= learning_rate * gradient_w1\n",
    "    w2 -= learning_rate * gradient_w2\n",
    "    b1 -= learning_rate * gradient_b1\n",
    "    b2 -= learning_rate * gradient_b2\n",
    "\n",
    "    return w1,w2,b1,b2\n",
    "w1,w2,b1,b2 = update_weights(w1,w2,b1,b2,gradient_w1,gradient_w2,gradient_b1,gradient_b2)\n",
    "w1,w2,b1,b2"
   ]
  },
  {
   "cell_type": "markdown",
   "id": "9c659fd1",
   "metadata": {},
   "source": [
    "## all together"
   ]
  },
  {
   "cell_type": "code",
   "execution_count": 13,
   "id": "70f7fbd0",
   "metadata": {
    "scrolled": true
   },
   "outputs": [],
   "source": [
    "def mlp(lr=0.5, loops=100):\n",
    "    x = getX2()\n",
    "    yt = getY2()\n",
    "    w1, w2, b1, b2 = initWeights2()\n",
    "    \n",
    "    for _ in range(loops):\n",
    "        h0,h1,h2,f0,f1,y = forward(x,w1,w2,b1,b2)\n",
    "\n",
    "        e = outputError(y, yt)\n",
    "        eprime = outputErrorPrime(y, yt)\n",
    "#         print(e.sum()) \n",
    "\n",
    "        delta1, delta2 = localErrors(h1, w2)\n",
    "        gradient_w1, gradient_w2, gradient_b1, gradient_b2 = gradients(y,yt,delta1,delta2,f0,f1)\n",
    "    \n",
    "        w1,w2,b1,b2 = update_weights(w1,w2,b1,b2,gradient_w1,gradient_w2,gradient_b1,gradient_b2,lr)\n",
    "        \n",
    "    return w1,w2,b1,b2\n",
    "    \n",
    "w1,w2,b1,b2 = mlp()\n"
   ]
  },
  {
   "cell_type": "code",
   "execution_count": 29,
   "id": "870b9b08",
   "metadata": {},
   "outputs": [
    {
     "name": "stdout",
     "output_type": "stream",
     "text": [
      "Iteration 0: 2.489718074734543\n",
      "Iteration 100: 0.28715568299354244\n",
      "Iteration 200: 0.2869955667483966\n",
      "Iteration 300: 0.28697406171018786\n",
      "Iteration 400: 0.2869650279564783\n",
      "Iteration 500: 0.28695712196316264\n",
      "Iteration 600: 0.2869496489042563\n",
      "Iteration 700: 0.28694265609020175\n",
      "Iteration 800: 0.2869361554836523\n",
      "Iteration 900: 0.2869301228726886\n",
      "Iteration 1000: 0.2869245227846547\n",
      "Iteration 1100: 0.28691931865205517\n",
      "Iteration 1200: 0.2869144759943578\n",
      "Iteration 1300: 0.2869099631916537\n",
      "Iteration 1400: 0.2869057515051008\n",
      "Iteration 1500: 0.28690181488287064\n",
      "Iteration 1600: 0.2868981297200059\n",
      "Iteration 1700: 0.286894674622768\n",
      "Iteration 1800: 0.2868914301912343\n",
      "Iteration 1900: 0.2868883788225788\n"
     ]
    },
    {
     "data": {
      "image/png": "[encoded data removed]",
      "text/plain": [
       "<Figure size 640x480 with 1 Axes>"
      ]
     },
     "metadata": {},
     "output_type": "display_data"
    }
   ],
   "source": [
    "class MLP():\n",
    "    def __init__(self, x, yt):\n",
    "        self.x = x\n",
    "        self.yt = yt\n",
    "        self.w1, self.w2, self.b1, self.b2 = initWeights2()\n",
    "        \n",
    "    def iterate(self, lr=0.7):\n",
    "        h0,h1,h2,f0,f1,self.y = forward(self.x, self.w1, self.w2, self.b1, self.b2)\n",
    "\n",
    "        eprime = outputErrorPrime(self.y, self.yt)\n",
    "        \n",
    "        delta1, delta2 = localErrors(h1, self.w2)\n",
    "        gradient_w1, gradient_w2, gradient_b1, gradient_b2 = gradients(self.y,self.yt,delta1,delta2,f0,f1)\n",
    "    \n",
    "        self.w1, self.w2, self.b1, self.b2 = update_weights(w1,w2,b1,b2,gradient_w1,gradient_w2,gradient_b1,gradient_b2,lr)\n",
    "        \n",
    "    def getOutput(self, x):\n",
    "        _,_,_,_,_,y = forward(x, self.w1, self.w2, self.b1, self.b2)\n",
    "        return y\n",
    "     \n",
    "    def getError(self):\n",
    "        return outputError(self.y, self.yt).sum()\n",
    "        \n",
    "def plotresult(mlp, x, yt):\n",
    "    xspace = np.linspace(0, 1, 50, endpoint=True)\n",
    "    yspace = np.sin(2 * np.pi * xspace)\n",
    "    \n",
    "    ymlp = mlp.getOutput(x)\n",
    "            \n",
    "    xmlpspace = xspace[:, np.newaxis]\n",
    "    xmlpspace = np.block([xmlpspace, np.zeros(len(xmlpspace)*2).reshape(-1,2)]) \n",
    "    ymlpspace = mlp.getOutput(xmlpspace)\n",
    "    \n",
    "    plt.plot(xspace, yspace, label='true')\n",
    "    plt.plot(xspace, ymlpspace[:,0], label='mlp')\n",
    "    \n",
    "    plt.scatter(x[:,0],yt[:,0], marker='o', label='samples')\n",
    "    plt.scatter(x[:,0],ymlp[:,0], marker='o', label='mlp')\n",
    "    plt.legend()\n",
    "    plt.show()\n",
    "\n",
    "def results():\n",
    "   \n",
    "    x = getX2()\n",
    "    yt = getY2()\n",
    "    mlp = MLP(x, yt)\n",
    "    \n",
    "    for i in range(2000):\n",
    "        mlp.iterate(0.7)\n",
    "        \n",
    "        if(i%100 == 0):\n",
    "            print(f'Iteration {i}: {mlp.getError()}')\n",
    "#             plotresult(mlp, x, yt)\n",
    "    plotresult(mlp, x, yt)\n",
    "results() "
   ]
  },
  {
   "cell_type": "code",
   "execution_count": 15,
   "id": "75ce15d9",
   "metadata": {},
   "outputs": [
    {
     "data": {
      "image/png": "[encoded data removed]",
      "text/plain": [
       "<Figure size 640x480 with 1 Axes>"
      ]
     },
     "metadata": {},
     "output_type": "display_data"
    }
   ],
   "source": [
    "def results(x,yt):\n",
    "    xspace = np.linspace(0, 1, 50, endpoint=True)\n",
    "    yspace = np.sin(2 * np.pi * xspace)\n",
    "    \n",
    "    my_mlp = mlp(0.7, 10000)\n",
    "    _,_,_,_,_,ymlp = forward(x,*my_mlp)\n",
    "    \n",
    "    xmlpspace = xspace[:, np.newaxis]\n",
    "    xmlpspace = np.block([xmlpspace, np.zeros(len(xmlpspace)*2).reshape(-1,2)]) \n",
    "    _,_,_,_,_,ymlpspace = forward(xmlpspace,*my_mlp)\n",
    "    \n",
    "    \n",
    "    plt.plot(xspace, yspace, label='true')\n",
    "    plt.plot(xspace, ymlpspace[:,0], label='mlp')\n",
    "    \n",
    "    plt.scatter(x[:,0],yt[:,0], marker='o', label='samples')\n",
    "    plt.scatter(x[:,0],ymlp[:,0], marker='o', label='mlp')\n",
    "    plt.legend()\n",
    "\n",
    "results(x,yt)"
   ]
  }
 ],
 "metadata": {
  "kernelspec": {
   "display_name": "Python 3 (ipykernel)",
   "language": "python",
   "name": "python3"
  },
  "language_info": {
   "codemirror_mode": {
    "name": "ipython",
    "version": 3
   },
   "file_extension": ".py",
   "mimetype": "text/x-python",
   "name": "python",
   "nbconvert_exporter": "python",
   "pygments_lexer": "ipython3",
   "version": "3.10.8"
  }
 },
 "nbformat": 4,
 "nbformat_minor": 5
}
