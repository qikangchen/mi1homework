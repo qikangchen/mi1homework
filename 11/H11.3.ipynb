{
 "cells": [
  {
   "cell_type": "code",
   "execution_count": 2,
   "id": "b3a190bf",
   "metadata": {},
   "outputs": [],
   "source": [
    "from pgmpy.models import BayesianNetwork\n",
    "from pgmpy.factors.discrete import TabularCPD\n",
    "from pgmpy.inference import VariableElimination"
   ]
  },
  {
   "cell_type": "code",
   "execution_count": 29,
   "id": "1b32b9a6",
   "metadata": {},
   "outputs": [
    {
     "name": "stdout",
     "output_type": "stream",
     "text": [
      "P(A=t)=0.0104904\n",
      "P(A=t|R=t)=0.4157\n",
      "P(B=t|A=t)=0.905589\n",
      "P(B=t|A=t,R=t)=0.023575\n"
     ]
    }
   ],
   "source": [
    "model = BayesianNetwork([('B', 'A'), ('E', 'A'), ('E', 'R')])\n",
    "\n",
    "cpd_b = TabularCPD(variable='B', variable_card=2, values=[[1-0.01], [0.01]])\n",
    "cpd_e = TabularCPD(variable='E', variable_card=2, values=[[1-10**-6], [10**-6]])\n",
    "cpd_r = TabularCPD(\n",
    "                variable='R', variable_card=2,\n",
    "                #      e=f  e=t\n",
    "                values=[[1, 0],  # r = f\n",
    "                        [0, 1]], # r = t\n",
    "                evidence=['E'],\n",
    "                evidence_card=[2])\n",
    "cpd_a = TabularCPD(\n",
    "                variable='A', variable_card=2,\n",
    "                # B|E=     ff       ft      tf      tt \n",
    "                values=[[1-0.001, 1-0.41, 1-0.95, 1-0.98], # a = f\n",
    "                        [0.001,     0.41,   0.95,   0.98]],# a = t\n",
    "                evidence=['B', 'E'],\n",
    "                evidence_card=[2, 2])\n",
    "\n",
    "model.add_cpds(cpd_b, cpd_e, cpd_r, cpd_a)\n",
    "model.check_model()\n",
    "\n",
    "\n",
    "infer = VariableElimination(model)\n",
    "print(f\"P(A=t)={round(infer.query(['A']).values[1], 7)}\")\n",
    "print(f\"P(A=t|R=t)={round(infer.query(['A'], {'R':1}).values[1], 7)}\")\n",
    "print(f\"P(B=t|A=t)={round(infer.query(['B'], {'A':1}).values[1], 6)}\")\n",
    "print(f\"P(B=t|A=t,R=t)={round(infer.query(['B'], {'A':1,'R':1}).values[1], 6)}\")"
   ]
  }
 ],
 "metadata": {
  "kernelspec": {
   "display_name": "Python 3 (ipykernel)",
   "language": "python",
   "name": "python3"
  },
  "language_info": {
   "codemirror_mode": {
    "name": "ipython",
    "version": 3
   },
   "file_extension": ".py",
   "mimetype": "text/x-python",
   "name": "python",
   "nbconvert_exporter": "python",
   "pygments_lexer": "ipython3",
   "version": "3.10.9"
  }
 },
 "nbformat": 4,
 "nbformat_minor": 5
}
