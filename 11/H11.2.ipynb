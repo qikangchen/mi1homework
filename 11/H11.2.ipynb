{
 "cells": [
  {
   "cell_type": "code",
   "execution_count": 16,
   "id": "73b91409",
   "metadata": {},
   "outputs": [],
   "source": [
    "from pgmpy.models import BayesianNetwork\n",
    "from pgmpy.factors.discrete import TabularCPD\n",
    "from pgmpy.inference import VariableElimination"
   ]
  },
  {
   "cell_type": "code",
   "execution_count": 51,
   "id": "76774974",
   "metadata": {},
   "outputs": [
    {
     "data": {
      "text/plain": [
       "True"
      ]
     },
     "execution_count": 51,
     "metadata": {},
     "output_type": "execute_result"
    }
   ],
   "source": [
    "model = BayesianNetwork([('C', 'S'), ('C', 'R'), ('S', 'W'), ('R', 'W')])\n",
    "\n",
    "\n",
    "cpd_c = TabularCPD(variable='C', variable_card=2, values=[[0.5], [0.5]])\n",
    "cpd_s = TabularCPD(\n",
    "                variable='S', variable_card=2,\n",
    "                values=[[0.5, 0.9],\n",
    "                        [0.5, 0.1]],\n",
    "                evidence=['C'],\n",
    "                evidence_card=[2])\n",
    "cpd_r = TabularCPD(\n",
    "                variable='R', variable_card=2,\n",
    "                values=[[0.8, 0.2],\n",
    "                        [0.2, 0.8]],\n",
    "                evidence=['C'],\n",
    "                evidence_card=[2])\n",
    "cpd_w = TabularCPD(\n",
    "                variable='W', variable_card=2,\n",
    "                values=[[1.0, 0.1, 0.1, 0.001],\n",
    "                        [0.0, 0.9, 0.9, 0.99]],\n",
    "                evidence=['S', 'R'],\n",
    "                evidence_card=[2, 2])\n",
    "\n",
    "\n",
    "model.add_cpds(cpd_c, cpd_s, cpd_r, cpd_w)\n",
    "model.check_model()"
   ]
  },
  {
   "cell_type": "code",
   "execution_count": 43,
   "id": "3963732c",
   "metadata": {},
   "outputs": [
    {
     "name": "stdout",
     "output_type": "stream",
     "text": [
      "Observe that the grass is wet and probability of caused by sprinkler: 0.43\n",
      "Observe that the grass is wet and probability of caused by rain: 0.708\n"
     ]
    }
   ],
   "source": [
    "infer = VariableElimination(model)\n",
    "s_dist = infer.query(['S'], {'W':1})\n",
    "r_dist = infer.query(['R'], {'W':1})\n",
    "print(f'Observe that the grass is wet and probability of caused by sprinkler: {round(s_dist.values[1], 3)}')\n",
    "print(f'Observe that the grass is wet and probability of caused by rain: {round(r_dist.values[1], 3)}')"
   ]
  },
  {
   "cell_type": "code",
   "execution_count": 49,
   "id": "f48a0a71",
   "metadata": {},
   "outputs": [
    {
     "name": "stdout",
     "output_type": "stream",
     "text": [
      "P(S=t|W=t)=0.429764\n",
      "P(S=t|W=t,R=t)=0.194499\n"
     ]
    }
   ],
   "source": [
    "dist1 = infer.query(['S'], {'W':1})\n",
    "dist2 = infer.query(['S'], {'W':1, 'R':1})\n",
    "print(f'P(S=t|W=t)={round(dist1.values[1], 6)}')\n",
    "print(f'P(S=t|W=t,R=t)={round(dist2.values[1], 6)}')"
   ]
  }
 ],
 "metadata": {
  "kernelspec": {
   "display_name": "Python 3 (ipykernel)",
   "language": "python",
   "name": "python3"
  },
  "language_info": {
   "codemirror_mode": {
    "name": "ipython",
    "version": 3
   },
   "file_extension": ".py",
   "mimetype": "text/x-python",
   "name": "python",
   "nbconvert_exporter": "python",
   "pygments_lexer": "ipython3",
   "version": "3.10.9"
  }
 },
 "nbformat": 4,
 "nbformat_minor": 5
}
